{
 "cells": [
  {
   "cell_type": "code",
   "execution_count": 1,
   "metadata": {},
   "outputs": [],
   "source": [
    "from sklearn import datasets\n",
    "from sklearn.mixture import GaussianMixture\n",
    "from sklearn.metrics import accuracy_score\n",
    "import pandas as pd\n",
    "import pymorphy2\n",
    "from tqdm import tqdm_notebook as tqdm\n",
    "\n",
    "from pymystem3 import Mystem\n",
    "import re\n",
    "from sklearn.feature_extraction.text import TfidfVectorizer, CountVectorizer\n",
    "from sklearn.feature_extraction import DictVectorizer\n",
    "\n",
    "from sklearn.cluster import KMeans\n",
    "from sklearn.metrics import silhouette_samples, silhouette_score\n",
    "\n",
    "import warnings\n",
    "\n",
    "warnings.filterwarnings('ignore')"
   ]
  },
  {
   "cell_type": "markdown",
   "metadata": {},
   "source": [
    "# ДЗ"
   ]
  },
  {
   "cell_type": "code",
   "execution_count": 104,
   "metadata": {},
   "outputs": [],
   "source": [
    "positive = pd.read_csv('positive.csv', sep=';', header=None)\n",
    "negative = pd.read_csv('negative.csv', sep=';', header=None)"
   ]
  },
  {
   "cell_type": "code",
   "execution_count": 105,
   "metadata": {},
   "outputs": [],
   "source": [
    "positive_temp = positive[[3]]\n",
    "positive_temp['type'] = 'positive'\n",
    "\n",
    "negative_temp = negative[[3]]\n",
    "negative_temp['type'] = 'negative'"
   ]
  },
  {
   "cell_type": "code",
   "execution_count": 106,
   "metadata": {},
   "outputs": [],
   "source": [
    "# Объединим positive и negative\n",
    "\n",
    "data = pd.concat([positive_temp, negative_temp])\n",
    "data.rename(columns={3: 'text'}, inplace=True)"
   ]
  },
  {
   "cell_type": "code",
   "execution_count": 107,
   "metadata": {},
   "outputs": [],
   "source": [
    "data['new_text'] = data['text'].apply(lambda x: ' '.join(str(x).lower().split()))"
   ]
  },
  {
   "cell_type": "code",
   "execution_count": 108,
   "metadata": {},
   "outputs": [
    {
     "name": "stdout",
     "output_type": "stream",
     "text": [
      "CPU times: user 1.26 s, sys: 27.7 ms, total: 1.28 s\n",
      "Wall time: 1.28 s\n"
     ]
    }
   ],
   "source": [
    "%%time\n",
    "\n",
    "# удалим адресатов твитов, оставим только русские буквы\n",
    "\n",
    "data['new_text'] = data['new_text'].apply(lambda x: re.sub(r'@\\S+', '', x))\n",
    "data['new_text'] = data['new_text'].apply(lambda x: re.sub(r'[^а-яА-Я\\- ]', '', x))"
   ]
  },
  {
   "cell_type": "code",
   "execution_count": 109,
   "metadata": {},
   "outputs": [
    {
     "name": "stdout",
     "output_type": "stream",
     "text": [
      "CPU times: user 1min 7s, sys: 228 ms, total: 1min 7s\n",
      "Wall time: 1min 7s\n"
     ]
    }
   ],
   "source": [
    "%%time\n",
    "\n",
    "# оставим только буквы и приведем все к нормальной форме\n",
    "\n",
    "morph = pymorphy2.MorphAnalyzer()\n",
    "\n",
    "data['new_text'] = data.new_text.apply(\n",
    "    lambda text: morph.parse(text)[0].normal_form\n",
    ")"
   ]
  },
  {
   "cell_type": "code",
   "execution_count": 110,
   "metadata": {},
   "outputs": [],
   "source": [
    "def pos(word, morth=pymorphy2.MorphAnalyzer()):\n",
    "    return morth.parse(word)[0].tag.POS\n",
    "\n",
    "functors_pos = {'INTJ', 'PRCL', 'CONJ', 'PREP', 'NPRO'}  # междометие, частица, союз, предлог, местоимения"
   ]
  },
  {
   "cell_type": "code",
   "execution_count": 111,
   "metadata": {},
   "outputs": [
    {
     "name": "stdout",
     "output_type": "stream",
     "text": [
      "CPU times: user 9min 44s, sys: 4.73 s, total: 9min 49s\n",
      "Wall time: 10min\n"
     ]
    }
   ],
   "source": [
    "%%time\n",
    "\n",
    "# уберем части речи из functors_pos и числа (работает 10 минут)\n",
    "\n",
    "data['new_text'] = data.new_text.apply(\n",
    "    lambda text: ' '.join(list(filter(lambda word: (pos(word) not in functors_pos) & (word.isdigit() == False), str(text).split())))\n",
    ")"
   ]
  },
  {
   "cell_type": "code",
   "execution_count": 112,
   "metadata": {},
   "outputs": [],
   "source": [
    "data['new_text'] = data['new_text'].apply(lambda x: re.sub(r'[^а-яА-Я ]', '', x).lower())"
   ]
  },
  {
   "cell_type": "code",
   "execution_count": 129,
   "metadata": {},
   "outputs": [
    {
     "name": "stdout",
     "output_type": "stream",
     "text": [
      "CPU times: user 5.95 s, sys: 101 ms, total: 6.06 s\n",
      "Wall time: 6.06 s\n"
     ]
    }
   ],
   "source": [
    "%%time\n",
    "# Преобразуем тексты в векторы признаков\n",
    "\n",
    "TF_IDF = TfidfVectorizer(min_df=10, max_df=0.50)\n",
    "CV = CountVectorizer(min_df=10, max_df=0.50)\n",
    "data_cv = CV.fit_transform(data['new_text'])\n",
    "data_tf_idf = TF_IDF.fit_transform(data['new_text'])"
   ]
  },
  {
   "cell_type": "code",
   "execution_count": 130,
   "metadata": {},
   "outputs": [
    {
     "name": "stdout",
     "output_type": "stream",
     "text": [
      "CPU times: user 2min 39s, sys: 1.05 s, total: 2min 40s\n",
      "Wall time: 2min 4s\n"
     ]
    }
   ],
   "source": [
    "%%time\n",
    "\n",
    "clusterer = KMeans(n_clusters=20)\n",
    "cluster_labels = clusterer.fit_predict(data_tf_idf)"
   ]
  },
  {
   "cell_type": "code",
   "execution_count": 131,
   "metadata": {},
   "outputs": [],
   "source": [
    "# merge текстов с их метками\n",
    "data['label'] = cluster_labels"
   ]
  },
  {
   "cell_type": "code",
   "execution_count": 132,
   "metadata": {
    "scrolled": false
   },
   "outputs": [
    {
     "name": "stdout",
     "output_type": "stream",
     "text": [
      "НОМЕР КЛАСТЕРА: 0 \n",
      "\n",
      "          text  new_text  label\n",
      "type                           \n",
      "negative  6384      6384   6384\n",
      "positive  7196      7196   7196 \n",
      "\n",
      "('сейчас', 1815) ('буду', 1787) ('тут', 1566) ('мой', 1463) ('может', 1307) ('быть', 1162) ('знаю', 1020) ('там', 339) ('будет', 293) ('вообще', 246) ('вс', 232) ('потом', 199) ('смотреть', 193) ('раз', 181) ('больше', 172)\n",
      "\n",
      "НОМЕР КЛАСТЕРА: 1 \n",
      "\n",
      "          text  new_text  label\n",
      "type                           \n",
      "negative  1231      1231   1231\n",
      "positive  1030      1030   1030 \n",
      "\n",
      "('новый', 1736) ('год', 1514) ('уже', 118) ('будет', 115) ('лка', 113) ('все', 78) ('этот', 77) ('скоро', 76) ('нет', 71) ('настроения', 70) ('буду', 61) ('хочу', 55) ('мой', 52) ('новогоднего', 51) ('подарок', 48)\n",
      "\n",
      "НОМЕР КЛАСТЕРА: 2 \n",
      "\n",
      "           text  new_text  label\n",
      "type                            \n",
      "negative  62112     62112  62112\n",
      "positive  71714     71714  71714 \n",
      "\n",
      "('будет', 2258) ('там', 2054) ('вс', 1791) ('вообще', 1637) ('раз', 1447) ('больше', 1272) ('такой', 1168) ('потом', 1133) ('всегда', 1124) ('ещ', 1110) ('всем', 1095) ('был', 1053) ('время', 989) ('этот', 983) ('была', 947)\n",
      "\n",
      "НОМЕР КЛАСТЕРА: 3 \n",
      "\n",
      "          text  new_text  label\n",
      "type                           \n",
      "negative  2607      2607   2607\n",
      "positive  2415      2415   2415 \n",
      "\n",
      "('очень', 4110) ('все', 245) ('сильно', 173) ('было', 170) ('уже', 142) ('хорошо', 137) ('будет', 129) ('жаль', 113) ('хочу', 102) ('вс', 99) ('хочется', 98) ('сегодня', 96) ('буду', 89) ('был', 86) ('там', 85)\n",
      "\n",
      "НОМЕР КЛАСТЕРА: 4 \n",
      "\n",
      "          text  new_text  label\n",
      "type                           \n",
      "negative  2951      2951   2951\n",
      "positive  3064      3064   3064 \n",
      "\n",
      "('было', 2580) ('надо', 2412) ('будет', 173) ('там', 155) ('вс', 143) ('делать', 135) ('лучше', 131) ('вообще', 117) ('идти', 109) ('потом', 104) ('больше', 91) ('все', 91) ('ещ', 90) ('сейчас', 89) ('раз', 88)\n",
      "\n",
      "НОМЕР КЛАСТЕРА: 5 \n",
      "\n",
      "          text  new_text  label\n",
      "type                           \n",
      "negative  5235      5235   5235\n",
      "positive  5295      5295   5295 \n",
      "\n",
      "('все', 8793) ('будет', 451) ('хорошо', 267) ('время', 263) ('было', 254) ('там', 236) ('больше', 186) ('вообще', 184) ('такие', 168) ('сейчас', 160) ('тут', 152) ('потом', 150) ('всегда', 147) ('раз', 142) ('буду', 140)\n",
      "\n",
      "НОМЕР КЛАСТЕРА: 6 \n",
      "\n",
      "          text  new_text  label\n",
      "type                           \n",
      "negative  3314      3314   3314\n",
      "positive  1777      1777   1777 \n",
      "\n",
      "('нет', 3652) ('все', 278) ('уже', 242) ('вообще', 163) ('там', 141) ('настроения', 140) ('времени', 135) ('нетнет', 125) ('больше', 118) ('надо', 99) ('почему', 95) ('хочу', 93) ('новогоднего', 91) ('сейчас', 87) ('сегодня', 82)\n",
      "\n",
      "НОМЕР КЛАСТЕРА: 7 \n",
      "\n",
      "          text  new_text  label\n",
      "type                           \n",
      "negative  1980      1980   1980\n",
      "positive  2292      2292   2292 \n",
      "\n",
      "('тоже', 2723) ('хочу', 248) ('все', 208) ('очень', 129) ('уже', 110) ('тожетоже', 98) ('там', 86) ('самое', 85) ('вообще', 82) ('было', 77) ('будет', 66) ('буду', 65) ('сегодня', 64) ('потом', 64) ('сейчас', 63)\n",
      "\n",
      "НОМЕР КЛАСТЕРА: 8 \n",
      "\n",
      "          text  new_text  label\n",
      "type                           \n",
      "negative  1054      1054   1054\n",
      "positive  1922      1922   1922 \n",
      "\n",
      "('люблю', 1779) ('все', 211) ('очень', 183) ('такие', 111) ('люблюлюблю', 96) ('моя', 89) ('зиму', 83) ('тоже', 80) ('люди', 79) ('больше', 78) ('свою', 75) ('всех', 74) ('уже', 67) ('мой', 64) ('вижу', 64)\n",
      "\n",
      "НОМЕР КЛАСТЕРА: 9 \n",
      "\n",
      "          text  new_text  label\n",
      "type                           \n",
      "negative   851       851    851\n",
      "positive   974       974    974 \n",
      "\n",
      "('много', 1625) ('очень', 154) ('все', 109) ('слишком', 102) ('уже', 88) ('было', 84) ('там', 83) ('будет', 67) ('людей', 56) ('надо', 52) ('сегодня', 51) ('раз', 51) ('времени', 45) ('всего', 44) ('вообще', 42)\n",
      "\n",
      "НОМЕР КЛАСТЕРА: 10 \n",
      "\n",
      "          text  new_text  label\n",
      "type                           \n",
      "negative  2781      2781   2781\n",
      "positive  3055      3055   3055 \n",
      "\n",
      "('сегодня', 3444) ('все', 329) ('уже', 232) ('было', 219) ('был', 166) ('будет', 165) ('была', 138) ('буду', 122) ('раз', 117) ('вчера', 104) ('дома', 92) ('спать', 87) ('там', 85) ('утро', 84) ('вообще', 83)\n",
      "\n",
      "НОМЕР КЛАСТЕРА: 11 \n",
      "\n",
      "          text  new_text  label\n",
      "type                           \n",
      "negative  3565      3565   3565\n",
      "positive  1141      1141   1141 \n",
      "\n",
      "('хочу', 3005) ('спать', 284) ('все', 230) ('уже', 210) ('быть', 111) ('домой', 101) ('идти', 98) ('там', 87) ('надо', 87) ('дома', 84) ('делать', 84) ('сейчас', 81) ('вообще', 76) ('обратно', 74) ('больше', 72)\n",
      "\n",
      "НОМЕР КЛАСТЕРА: 12 \n",
      "\n",
      "          text  new_text  label\n",
      "type                           \n",
      "negative   964       964    964\n",
      "positive  1657      1657   1657 \n",
      "\n",
      "('можно', 2138) ('было', 200) ('все', 138) ('уже', 131) ('теперь', 104) ('будет', 95) ('там', 69) ('сказать', 69) ('где', 63) ('вообще', 55) ('день', 52) ('вс', 49) ('тоже', 47) ('сделать', 47) ('нет', 47)\n",
      "\n",
      "НОМЕР КЛАСТЕРА: 13 \n",
      "\n",
      "          text  new_text  label\n",
      "type                           \n",
      "negative  1208      1208   1208\n",
      "positive   374       374    374 \n",
      "\n",
      "('плохо', 957) ('все', 213) ('очень', 156) ('вс', 67) ('было', 66) ('будет', 59) ('плохоплохо', 56) ('уже', 51) ('хорошо', 48) ('день', 41) ('совсем', 36) ('чувствую', 34) ('сейчас', 32) ('знаю', 31) ('завтра', 31)\n",
      "\n",
      "НОМЕР КЛАСТЕРА: 14 \n",
      "\n",
      "          text  new_text  label\n",
      "type                           \n",
      "negative  2459      2459   2459\n",
      "positive  2378      2378   2378 \n",
      "\n",
      "('день', 4720) ('весь', 409) ('сегодня', 404) ('целый', 332) ('каждый', 326) ('уже', 313) ('очень', 285) ('рождения', 262) ('все', 238) ('был', 215) ('этот', 199) ('танцы', 161) ('позитива', 157) ('бегал', 156) ('идиот', 156)\n",
      "\n",
      "НОМЕР КЛАСТЕРА: 15 \n",
      "\n",
      "          text  new_text  label\n",
      "type                           \n",
      "negative  2434      2434   2434\n",
      "positive  2045      2045   2045 \n",
      "\n",
      "('теперь', 3501) ('все', 295) ('буду', 211) ('будет', 170) ('знаю', 152) ('уже', 127) ('хочу', 100) ('нет', 92) ('вообще', 91) ('вс', 90) ('надо', 85) ('больше', 83) ('точно', 80) ('делать', 79) ('там', 78)\n",
      "\n",
      "НОМЕР КЛАСТЕРА: 16 \n",
      "\n",
      "          text  new_text  label\n",
      "type                           \n",
      "negative  1736      1736   1736\n",
      "positive   512       512    512 \n",
      "\n",
      "('опять', 1585) ('все', 112) ('уже', 94) ('завтра', 85) ('будет', 74) ('буду', 67) ('сегодня', 66) ('потом', 59) ('хочу', 58) ('день', 55) ('надо', 52) ('спать', 47) ('теперь', 42) ('вс', 41) ('раз', 39)\n",
      "\n",
      "НОМЕР КЛАСТЕРА: 17 \n",
      "\n",
      "          text  new_text  label\n",
      "type                           \n",
      "negative  4054      4054   4054\n",
      "positive  3389      3389   3389 \n",
      "\n",
      "('уже', 5931) ('все', 497) ('раз', 204) ('будет', 183) ('давно', 175) ('там', 173) ('надо', 139) ('тут', 137) ('вс', 132) ('было', 131) ('сейчас', 125) ('скоро', 122) ('часа', 120) ('почти', 116) ('лет', 114)\n",
      "\n",
      "НОМЕР КЛАСТЕРА: 18 \n",
      "\n",
      "          text  new_text  label\n",
      "type                           \n",
      "negative  2425      2425   2425\n",
      "positive   926       926    926 \n",
      "\n",
      "('могу', 2495) ('все', 204) ('уже', 197) ('найти', 131) ('день', 102) ('теперь', 95) ('хочу', 85) ('сказать', 79) ('больше', 78) ('уснуть', 78) ('нет', 69) ('вообще', 66) ('смотреть', 65) ('сейчас', 60) ('очень', 58)\n",
      "\n",
      "НОМЕР КЛАСТЕРА: 19 \n",
      "\n",
      "          text  new_text  label\n",
      "type                           \n",
      "negative  2578      2578   2578\n",
      "positive  1755      1755   1755 \n",
      "\n",
      "('завтра', 2744) ('будет', 352) ('день', 278) ('уже', 263) ('школу', 216) ('все', 215) ('буду', 207) ('сегодня', 162) ('надо', 160) ('спать', 145) ('хочу', 125) ('идти', 90) ('завтразавтра', 83) ('нет', 80) ('уроки', 77)\n",
      "\n"
     ]
    }
   ],
   "source": [
    "from collections import Counter\n",
    "\n",
    "for label in set(cluster_labels):\n",
    "    temp = ''.join(data['new_text'][data['label'] == label]).split()\n",
    "    print('НОМЕР КЛАСТЕРА: {0}'.format(label), '\\n')\n",
    "    print(data[data['label'] == label].groupby('type').count(), '\\n')\n",
    "    print(*sorted(Counter(temp).items(), key=lambda x: x[1], reverse=True)[:15])\n",
    "    print()"
   ]
  },
  {
   "cell_type": "markdown",
   "metadata": {},
   "source": [
    "## в некоторых кластерах можно выделить его основную тему: \n",
    "18 кластер: не могу уснуть  \n",
    "19 кластер: надо спать - завтра в школу  \n",
    "13 кластер: чувствую себя плохо  \n",
    "8 кластер: люблю  \n",
    "6 кластер: нет настроения"
   ]
  },
  {
   "cell_type": "code",
   "execution_count": null,
   "metadata": {},
   "outputs": [],
   "source": []
  }
 ],
 "metadata": {
  "kernelspec": {
   "display_name": "Python 3",
   "language": "python",
   "name": "python3"
  },
  "language_info": {
   "codemirror_mode": {
    "name": "ipython",
    "version": 3
   },
   "file_extension": ".py",
   "mimetype": "text/x-python",
   "name": "python",
   "nbconvert_exporter": "python",
   "pygments_lexer": "ipython3",
   "version": "3.6.5"
  }
 },
 "nbformat": 4,
 "nbformat_minor": 2
}
