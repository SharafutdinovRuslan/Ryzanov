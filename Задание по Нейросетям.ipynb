{
 "cells": [
  {
   "cell_type": "markdown",
   "metadata": {},
   "source": [
    "# Упражнение на нейронные сети/Keras"
   ]
  },
  {
   "cell_type": "code",
   "execution_count": 1,
   "metadata": {},
   "outputs": [
    {
     "name": "stderr",
     "output_type": "stream",
     "text": [
      "/Users/sharafutdinovruslan/anaconda3/lib/python3.6/site-packages/h5py/__init__.py:36: FutureWarning: Conversion of the second argument of issubdtype from `float` to `np.floating` is deprecated. In future, it will be treated as `np.float64 == np.dtype(float).type`.\n",
      "  from ._conv import register_converters as _register_converters\n",
      "Using TensorFlow backend.\n"
     ]
    }
   ],
   "source": [
    "from sklearn.datasets import load_boston, load_breast_cancer, load_iris\n",
    "# boston - regression\n",
    "# breast - binary\n",
    "# iris - multiclass\n",
    "# Create your first MLP in Keras\n",
    "from keras.models import Sequential\n",
    "from keras.layers import Dense\n",
    "from keras.optimizers import SGD, Adam\n",
    "import numpy as np\n",
    "from sklearn.model_selection import train_test_split, StratifiedKFold, KFold\n",
    "from statistics import mean\n",
    "import matplotlib.pyplot as plt\n",
    "import keras\n",
    "\n",
    "from keras.utils import np_utils\n",
    "np.random.seed(7)"
   ]
  },
  {
   "cell_type": "markdown",
   "metadata": {},
   "source": [
    "## Бинарная классификация"
   ]
  },
  {
   "cell_type": "code",
   "execution_count": 2,
   "metadata": {},
   "outputs": [],
   "source": [
    "# бинарная классификация\n",
    "data = load_breast_cancer()\n",
    "X = data.data\n",
    "y = data.target\n",
    "# print(y[:10])"
   ]
  },
  {
   "cell_type": "code",
   "execution_count": 3,
   "metadata": {},
   "outputs": [],
   "source": [
    "# Делим выборку на 5 фолдов\n",
    "folds = list(\n",
    "    KFold(n_splits=5, shuffle=True, random_state=1).split(X, y)\n",
    ")"
   ]
  },
  {
   "cell_type": "code",
   "execution_count": 4,
   "metadata": {},
   "outputs": [],
   "source": [
    "%%capture\n",
    "# Зависимость от параметра lr\n",
    "model = Sequential()\n",
    "outList = list()\n",
    "lrGrid = np.linspace(10e-6, 10e-5, 5)\n",
    "for i in lrGrid:\n",
    "    print('lr = ', i)\n",
    "    model.add(Dense(1, activation='sigmoid'))\n",
    "    adam = Adam(lr=i)\n",
    "    model.compile(loss='binary_crossentropy', optimizer=adam, metrics=['accuracy'])\n",
    "    scoreList = list()\n",
    "    for j in range(5):\n",
    "        print('NFold = ', j)\n",
    "        model.fit(X[folds[j][0]], y[folds[j][0]], epochs=150, batch_size=10)\n",
    "        scores = model.evaluate(X[folds[j][1]], y[folds[j][1]])\n",
    "        scoreList.append(scores[1]*100)\n",
    "    outList.append(mean(scoreList))"
   ]
  },
  {
   "cell_type": "code",
   "execution_count": 5,
   "metadata": {
    "scrolled": true
   },
   "outputs": [
    {
     "data": {
      "image/png": "[encoded data removed]",
      "text/plain": [
       "<Figure size 432x288 with 1 Axes>"
      ]
     },
     "metadata": {},
     "output_type": "display_data"
    }
   ],
   "source": [
    "# График\n",
    "plt.plot(lrGrid, outList)\n",
    "plt.ylabel('Mean accuracy')\n",
    "plt.xlabel('lr')\n",
    "plt.title('Зависимость от LR')\n",
    "plt.show()"
   ]
  },
  {
   "cell_type": "markdown",
   "metadata": {},
   "source": [
    "## Регрессия"
   ]
  },
  {
   "cell_type": "code",
   "execution_count": 6,
   "metadata": {},
   "outputs": [],
   "source": [
    "# регрессия\n",
    "data = load_boston()\n",
    "X = data.data\n",
    "y = data.target\n",
    "# print(y[:10])"
   ]
  },
  {
   "cell_type": "code",
   "execution_count": 7,
   "metadata": {},
   "outputs": [],
   "source": [
    "%%capture\n",
    "# Зависимость от количества слоев (в каждом слое 1 нейрон)\n",
    "outList = list()\n",
    "DenseGrid = np.arange(1, 5)\n",
    "for i in DenseGrid:\n",
    "    print('Dense = ', i)\n",
    "    model = Sequential()\n",
    "    for j in range(i):\n",
    "        model.add(Dense(1))\n",
    "    adam = Adam(lr=0.00001)\n",
    "    model.compile(loss='mean_squared_error', optimizer=adam, metrics=['MSE'])\n",
    "    # делим на тест и трейн\n",
    "    X_train, X_test, y_train, y_test = train_test_split(X, y, test_size=0.33, random_state=42)\n",
    "#     folds = list(KFold(n_splits=2, shuffle=True, random_state=1).split(X, y)) \n",
    "#     X_train = list()\n",
    "#     X_test = list()\n",
    "#     y_train = list()\n",
    "#     y_test = list()\n",
    "#     for j in range(i):\n",
    "#         X_train.append(X[folds[j][0]])\n",
    "#         X_test.append(X[folds[j][1]])\n",
    "#         y_train.append(y[folds[j][0]])\n",
    "#         y_test.append(y[folds[j][1]])\n",
    "    model.fit(X_train, y_train, epochs=150, batch_size=10)\n",
    "    scores = model.evaluate(X_test, y_test)\n",
    "    outList.append(scores[1])\n",
    ";"
   ]
  },
  {
   "cell_type": "code",
   "execution_count": 8,
   "metadata": {},
   "outputs": [
    {
     "data": {
      "image/png": "[encoded data removed]",
      "text/plain": [
       "<Figure size 432x288 with 1 Axes>"
      ]
     },
     "metadata": {},
     "output_type": "display_data"
    }
   ],
   "source": [
    "# График\n",
    "plt.plot(DenseGrid, outList)\n",
    "plt.ylabel('MSE')\n",
    "plt.xlabel('Кол-во слоев')\n",
    "plt.title('Зависимость от кол-ва слоев')\n",
    "plt.show()"
   ]
  },
  {
   "cell_type": "code",
   "execution_count": null,
   "metadata": {},
   "outputs": [],
   "source": []
  }
 ],
 "metadata": {
  "kernelspec": {
   "display_name": "Python 3",
   "language": "python",
   "name": "python3"
  },
  "language_info": {
   "codemirror_mode": {
    "name": "ipython",
    "version": 3
   },
   "file_extension": ".py",
   "mimetype": "text/x-python",
   "name": "python",
   "nbconvert_exporter": "python",
   "pygments_lexer": "ipython3",
   "version": "3.6.5"
  }
 },
 "nbformat": 4,
 "nbformat_minor": 2
}
